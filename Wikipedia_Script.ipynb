{
 "cells": [
  {
   "cell_type": "markdown",
   "id": "50ff3217",
   "metadata": {},
   "source": [
    "# Importing the Data"
   ]
  },
  {
   "cell_type": "code",
   "execution_count": 1,
   "id": "af0d8574",
   "metadata": {},
   "outputs": [
    {
     "name": "stderr",
     "output_type": "stream",
     "text": [
      "/Users/antonshtarkman/Library/Python/3.9/lib/python/site-packages/urllib3/__init__.py:35: NotOpenSSLWarning: urllib3 v2 only supports OpenSSL 1.1.1+, currently the 'ssl' module is compiled with 'LibreSSL 2.8.3'. See: https://github.com/urllib3/urllib3/issues/3020\n",
      "  warnings.warn(\n"
     ]
    },
    {
     "name": "stdout",
     "output_type": "stream",
     "text": [
      "<Response [200]>\n"
     ]
    }
   ],
   "source": [
    "# retrieving data\n",
    "import requests as req\n",
    "\n",
    "filename=\"training_data.pkl\"\n",
    "url=\"https://www.ams.jhu.edu/~dan/FinalAssignmentSpring2024/Train_127a.pkl\"\n",
    "\n",
    "res=req.get(url)\n",
    "print(res)\n",
    "with open(filename, 'wb') as fout:\n",
    "    for chunk in res.iter_content(chunk_size=1024):\n",
    "        if chunk:\n",
    "            fout.write(chunk)"
   ]
  },
  {
   "cell_type": "code",
   "execution_count": 2,
   "id": "4b9a8bab",
   "metadata": {},
   "outputs": [
    {
     "name": "stdout",
     "output_type": "stream",
     "text": [
      "<Response [200]>\n"
     ]
    }
   ],
   "source": [
    "filename_test=\"test_data.pkl\"\n",
    "url2=\"https://www.ams.jhu.edu/~dan/FinalAssignmentSpring2024/TestPredictors_127a.pkl\"\n",
    "\n",
    "res=req.get(url2)\n",
    "print(res)\n",
    "with open(filename_test, 'wb') as fout:\n",
    "    for chunk in res.iter_content(chunk_size=1024):\n",
    "        if chunk:\n",
    "            fout.write(chunk)"
   ]
  },
  {
   "cell_type": "code",
   "execution_count": 3,
   "id": "b8df956c",
   "metadata": {},
   "outputs": [],
   "source": [
    "import pandas as pd\n",
    "filename=\"training_data.pkl\"\n",
    "filename_test = \"test_data.pkl\"\n",
    "train_df=pd.read_pickle(filename)\n",
    "test_df=pd.read_pickle(filename_test)"
   ]
  },
  {
   "cell_type": "code",
   "execution_count": 9,
   "id": "bc33a24e",
   "metadata": {},
   "outputs": [
    {
     "name": "stdout",
     "output_type": "stream",
     "text": [
      "Defaulting to user installation because normal site-packages is not writeable\n",
      "Collecting scikit-learn\n",
      "  Downloading scikit_learn-1.6.1-cp39-cp39-macosx_12_0_arm64.whl (11.1 MB)\n",
      "\u001b[K     |████████████████████████████████| 11.1 MB 3.5 MB/s eta 0:00:01\n",
      "\u001b[?25hRequirement already satisfied: numpy>=1.19.5 in /Users/antonshtarkman/Library/Python/3.9/lib/python/site-packages (from scikit-learn) (2.0.2)\n",
      "Collecting joblib>=1.2.0\n",
      "  Downloading joblib-1.4.2-py3-none-any.whl (301 kB)\n",
      "\u001b[K     |████████████████████████████████| 301 kB 103.3 MB/s eta 0:00:01\n",
      "\u001b[?25hCollecting threadpoolctl>=3.1.0\n",
      "  Downloading threadpoolctl-3.5.0-py3-none-any.whl (18 kB)\n",
      "Collecting scipy>=1.6.0\n",
      "  Downloading scipy-1.13.1-cp39-cp39-macosx_12_0_arm64.whl (30.3 MB)\n",
      "\u001b[K     |████████████████████████████████| 30.3 MB 111.0 MB/s eta 0:00:01\n",
      "\u001b[?25hInstalling collected packages: threadpoolctl, scipy, joblib, scikit-learn\n",
      "Successfully installed joblib-1.4.2 scikit-learn-1.6.1 scipy-1.13.1 threadpoolctl-3.5.0\n",
      "\u001b[33mWARNING: You are using pip version 21.2.4; however, version 25.0.1 is available.\n",
      "You should consider upgrading via the '/Library/Developer/CommandLineTools/usr/bin/python3 -m pip install --upgrade pip' command.\u001b[0m\n"
     ]
    }
   ],
   "source": [
    "!pip3 install scikit-learn"
   ]
  },
  {
   "cell_type": "markdown",
   "id": "40d0c162",
   "metadata": {},
   "source": [
    "# Functions used to test and fit for regression"
   ]
  },
  {
   "cell_type": "code",
   "execution_count": 10,
   "id": "a641b100",
   "metadata": {},
   "outputs": [],
   "source": [
    "%matplotlib inline\n",
    "import matplotlib.pyplot as plt\n",
    "def plot_model(Y_pred, Y_test):\n",
    "    plt.scatter(Y_pred, Y_test, s=2)\n",
    "    plt.title('Scatter plot')\n",
    "    plt.xlabel('Observed')\n",
    "    plt.ylabel('Predicted')\n",
    "    plt.scatter(Y_pred, Y_test,s=2)\n",
    "    \n",
    "    a, b = np.polyfit(Y_pred, Y_test, 1)\n",
    "\n",
    "    start_Y = min(Y_pred)\n",
    "    end_Y = max(Y_pred)\n",
    "\n",
    "    plt.plot(start_Y, end_Y * a + b)\n",
    "    \n",
    "    plt.show()\n",
    "\n",
    "\n",
    "from sklearn.linear_model import LinearRegression\n",
    "from sklearn.preprocessing import StandardScaler\n",
    "from sklearn.model_selection import train_test_split\n",
    "from sklearn.metrics import mean_absolute_error\n",
    "from sklearn.model_selection import cross_val_score\n",
    "\n",
    "def regression_test(model, data, needs_training = True, field = \"length\"):\n",
    "    X = data.copy()\n",
    "    Y = data[field]\n",
    "    \n",
    "    X_train, X_test, Y_train, Y_test = train_test_split(X, Y, test_size=0.2)\n",
    "    \n",
    "    X_train_features = data.columns[1:41]\n",
    "    X_test_features = data.columns[1:41]\n",
    "    \n",
    "    X_train = X_train[X_train_features]\n",
    "    X_test = X_test[X_test_features]\n",
    "    \n",
    "    scaler = StandardScaler()\n",
    "    scaler.fit(X_train)\n",
    "\n",
    "    scaled_X_train_features = scaler.transform(X_train)\n",
    "    scaled_X_test_features = scaler.transform(X_test)\n",
    "    \n",
    "    if needs_training:\n",
    "        model.fit(scaled_X_train_features, Y_train)\n",
    "        \n",
    "    print(\"Score: \" + str(model.score(scaled_X_test_features, Y_test)))\n",
    "    Y_pred = model.predict(scaled_X_test_features)\n",
    "    \n",
    "    MAE = mean_absolute_error(Y_test, Y_pred)\n",
    "    print(\"MAE: \" + str(MAE))\n",
    "    \n",
    "    return [Y_test, Y_pred]\n",
    "\n",
    "from sklearn.datasets import load_iris\n",
    "\n",
    "def cross_validate_regression(model, data):\n",
    "    X = data.copy()\n",
    "    Y = data['length']\n",
    "    X = X[train_df.columns[1:41]]\n",
    "    scores = cross_val_score(model, X, Y, cv = 5)\n",
    "    print(scores)"
   ]
  },
  {
   "cell_type": "markdown",
   "id": "a815ebaa",
   "metadata": {},
   "source": [
    "# Function used to test and fit for classification"
   ]
  },
  {
   "cell_type": "code",
   "execution_count": 11,
   "id": "f99ab032",
   "metadata": {},
   "outputs": [],
   "source": [
    "from sklearn.metrics import confusion_matrix\n",
    "from sklearn.model_selection import train_test_split\n",
    "from sklearn.preprocessing import StandardScaler\n",
    "from sklearn.metrics import accuracy_score, precision_score\n",
    "\n",
    "def classification_test(model, data, test_size_split, threshold_level, field = \"word_present\"):\n",
    "    X = data.copy()\n",
    "    Y = data[field]\n",
    "    \n",
    "    X_train, X_test, Y_train, Y_test = train_test_split(X, Y, test_size = test_size_split)\n",
    "\n",
    "    scaler = StandardScaler()\n",
    "\n",
    "    X_train_features = data.columns[1:41]\n",
    "    X_test_features = data.columns[1:41]\n",
    "\n",
    "    X_train = X_train[X_train_features]\n",
    "    X_test = X_test[X_test_features]\n",
    "\n",
    "    scaler.fit(X_train)\n",
    "\n",
    "    scaled_X_train_features = scaler.transform(X_train)\n",
    "    scaled_X_test_features = scaler.transform(X_test)\n",
    "\n",
    "    model = model.fit(scaled_X_train_features, Y_train)\n",
    "    Y_pred = model.predict(scaled_X_test_features)\n",
    "    \n",
    "    #Y_pred_prob = model.predict_proba(scaled_X_test_features)\n",
    "    \n",
    "    \n",
    "    #threshold = threshold_level\n",
    "    \n",
    "    #Y_pred=Y_pred_prob[:,1]>threshold -> trying different threshold\n",
    "        \n",
    "    conf_matrix = confusion_matrix(Y_test, Y_pred)\n",
    "    TN, FP, FN, TP = conf_matrix.ravel()\n",
    "        \n",
    "    TPR = TP / (TP + FN)\n",
    "    \n",
    "    print(\"True Positive Rate : \"  + str(TPR))\n",
    "    \n",
    "    FPR = FP / (FP + TN)\n",
    "    \n",
    "    print(\"False Positive Rate : \"  + str(FPR))\n",
    "    \n",
    "    precision = precision_score(Y_test, Y_pred)\n",
    "    \n",
    "    print(\"Precision: \" + str(precision))\n",
    "    \n",
    "    print(\"Accuracy: {:.2f}\".format(accuracy_score(Y_test, Y_pred)))\n",
    "    \n",
    "    return [Y_test, Y_pred]"
   ]
  },
  {
   "cell_type": "markdown",
   "id": "d12c1fa5",
   "metadata": {},
   "source": [
    "# Imputation"
   ]
  },
  {
   "cell_type": "markdown",
   "id": "ffd7aeef",
   "metadata": {},
   "source": [
    "Imputing the variables that are NAN so that we can used supervised learning"
   ]
  },
  {
   "cell_type": "code",
   "execution_count": 12,
   "id": "f1edf326",
   "metadata": {},
   "outputs": [],
   "source": [
    "import numpy as np\n",
    "from sklearn.impute import SimpleImputer\n",
    "\n",
    "imputation_mean = SimpleImputer(missing_values=np.nan, strategy='mean')\n",
    "\n",
    "train_features_columns = train_df.columns[1:41]\n",
    "test_features_columns = test_df.columns[1:41]\n",
    "\n",
    "train_df[train_features_columns] = imputation_mean.fit_transform(train_df[train_features_columns])\n",
    "test_df[test_features_columns] = imputation_mean.fit_transform(test_df[test_features_columns])"
   ]
  },
  {
   "cell_type": "markdown",
   "id": "383aa222",
   "metadata": {},
   "source": [
    "# Predicting the length variable"
   ]
  },
  {
   "cell_type": "markdown",
   "id": "02ec9122",
   "metadata": {},
   "source": [
    "Starting with linear regression"
   ]
  },
  {
   "cell_type": "code",
   "execution_count": 13,
   "id": "adba3705",
   "metadata": {},
   "outputs": [
    {
     "name": "stdout",
     "output_type": "stream",
     "text": [
      "Score: 0.7078531086044562\n",
      "MAE: 7905.27554940497\n",
      "[0.72975308 0.74045386 0.69723816 0.72281552 0.73625642]\n"
     ]
    }
   ],
   "source": [
    "linear_regression_model = LinearRegression()\n",
    "training_data = train_df\n",
    "Y_test, Y_pred = regression_test(linear_regression_model, training_data)\n",
    "cross_validate_regression(linear_regression_model, training_data)"
   ]
  },
  {
   "cell_type": "markdown",
   "id": "0ed21c83",
   "metadata": {},
   "source": [
    "Plotting the Linear Regression"
   ]
  },
  {
   "cell_type": "code",
   "execution_count": 14,
   "id": "66a9185b",
   "metadata": {},
   "outputs": [
    {
     "data": {
      "image/png": "[encoded data removed]",
      "text/plain": [
       "<Figure size 640x480 with 1 Axes>"
      ]
     },
     "metadata": {},
     "output_type": "display_data"
    }
   ],
   "source": [
    "plot_model(Y_pred, Y_test)"
   ]
  },
  {
   "cell_type": "markdown",
   "id": "b8472282",
   "metadata": {},
   "source": [
    "Now I try to implement the SGD Regressor"
   ]
  },
  {
   "cell_type": "code",
   "execution_count": 15,
   "id": "0f6a9365",
   "metadata": {},
   "outputs": [
    {
     "name": "stdout",
     "output_type": "stream",
     "text": [
      "Score: 0.721825923107364\n",
      "MAE: 7980.963799633583\n"
     ]
    },
    {
     "name": "stderr",
     "output_type": "stream",
     "text": [
      "/Users/antonshtarkman/Library/Python/3.9/lib/python/site-packages/sklearn/linear_model/_stochastic_gradient.py:1608: ConvergenceWarning: Maximum number of iteration reached before convergence. Consider increasing max_iter to improve the fit.\n",
      "  warnings.warn(\n"
     ]
    }
   ],
   "source": [
    "from sklearn.linear_model import SGDRegressor\n",
    "SGD_regression_model = SGDRegressor(alpha=0.0001, epsilon=0.1, eta0=0.01, fit_intercept=True,\n",
    "       l1_ratio=0.15, learning_rate='invscaling', loss='squared_error',\n",
    "       n_iter_no_change=5, penalty='l2', power_t=0.25, random_state=None,\n",
    "       shuffle=False, verbose=0, warm_start=False\n",
    ")\n",
    "training_data = train_df\n",
    "Y_test, Y_pred = regression_test(SGD_regression_model, training_data)\n"
   ]
  },
  {
   "cell_type": "markdown",
   "id": "57d96840",
   "metadata": {},
   "source": [
    "These values are quite bad, I will not be coming back to this."
   ]
  },
  {
   "cell_type": "markdown",
   "id": "b2e5fba7",
   "metadata": {},
   "source": [
    "# Lasso Regression"
   ]
  },
  {
   "cell_type": "markdown",
   "id": "5cd6268b",
   "metadata": {},
   "source": [
    "Implementing Lasso Regression with different alpha levels to see if there is any alpha level that outperforms the rest. "
   ]
  },
  {
   "cell_type": "code",
   "execution_count": 16,
   "id": "9b1010e6",
   "metadata": {},
   "outputs": [
    {
     "name": "stdout",
     "output_type": "stream",
     "text": [
      "Alpha: 0.1\n",
      "----------------\n",
      "Score: 0.7291861509007926\n",
      "MAE: 7880.578264612154\n",
      "\n",
      "----------------\n",
      "Alpha: 0.2\n",
      "----------------\n",
      "Score: 0.7204771483254347\n",
      "MAE: 7989.252681590216\n",
      "\n",
      "----------------\n",
      "Alpha: 0.30000000000000004\n",
      "----------------\n",
      "Score: 0.7308307715108455\n",
      "MAE: 7886.3879567721415\n",
      "\n",
      "----------------\n",
      "Alpha: 0.4\n",
      "----------------\n",
      "Score: 0.7104079304707969\n",
      "MAE: 7918.445732210238\n",
      "\n",
      "----------------\n",
      "Alpha: 0.5\n",
      "----------------\n",
      "Score: 0.7292651618166555\n",
      "MAE: 7859.180007244458\n",
      "\n",
      "----------------\n",
      "Alpha: 0.6\n",
      "----------------\n",
      "Score: 0.7121040408674683\n",
      "MAE: 7851.265584797683\n",
      "\n",
      "----------------\n",
      "Alpha: 0.7\n",
      "----------------\n",
      "Score: 0.7317284120423782\n",
      "MAE: 7905.608404151615\n",
      "\n",
      "----------------\n",
      "Alpha: 0.7999999999999999\n",
      "----------------\n",
      "Score: 0.7168607581740514\n",
      "MAE: 7952.159218623513\n",
      "\n",
      "----------------\n",
      "Alpha: 0.9\n",
      "----------------\n",
      "Score: 0.7171191043006695\n",
      "MAE: 7871.944644880388\n",
      "\n",
      "----------------\n",
      "Alpha: 1.0\n",
      "----------------\n",
      "Score: 0.7246445781151984\n",
      "MAE: 7900.858118453561\n",
      "\n",
      "----------------\n"
     ]
    }
   ],
   "source": [
    "from sklearn.linear_model import Lasso\n",
    "alpha = list(range(10))\n",
    "alpha_list = [a/10 + 0.1 for a in alpha]\n",
    "\n",
    "for a in alpha_list:\n",
    "    print(\"Alpha: \" + str(a))\n",
    "    print(\"----------------\")\n",
    "    lasso_model = Lasso(alpha = a)\n",
    "    training_data = train_df\n",
    "    Y_test, Y_pred = regression_test(lasso_model, training_data)\n",
    "    print(\"\\n----------------\")"
   ]
  },
  {
   "cell_type": "markdown",
   "id": "4257a22c",
   "metadata": {},
   "source": [
    "There is no real difference between changing each alpha "
   ]
  },
  {
   "cell_type": "markdown",
   "id": "04ec631d",
   "metadata": {},
   "source": [
    "# Ridge Regression"
   ]
  },
  {
   "cell_type": "markdown",
   "id": "f39ef343",
   "metadata": {},
   "source": [
    "Similarly, implementing ridge regression with different alpha levels to see if there is any alpha level that outperforms the rest."
   ]
  },
  {
   "cell_type": "code",
   "execution_count": 17,
   "id": "3c797fd2",
   "metadata": {},
   "outputs": [
    {
     "name": "stdout",
     "output_type": "stream",
     "text": [
      "Alpha: 0.1\n",
      "----------------\n",
      "Score: 0.7227209294977331\n",
      "MAE: 7877.309173106933\n",
      "\n",
      "----------------\n",
      "Alpha: 0.2\n",
      "----------------\n",
      "Score: 0.7337631703705991\n",
      "MAE: 7936.517576245606\n",
      "\n",
      "----------------\n",
      "Alpha: 0.30000000000000004\n",
      "----------------\n",
      "Score: 0.7079017863573196\n",
      "MAE: 7933.479236286506\n",
      "\n",
      "----------------\n",
      "Alpha: 0.4\n",
      "----------------\n",
      "Score: 0.7210531086502316\n",
      "MAE: 7886.757598913768\n",
      "\n",
      "----------------\n",
      "Alpha: 0.5\n",
      "----------------\n",
      "Score: 0.7123059908882384\n",
      "MAE: 7882.9840423213245\n",
      "\n",
      "----------------\n",
      "Alpha: 0.6\n",
      "----------------\n",
      "Score: 0.6998938912087476\n",
      "MAE: 7940.456190986311\n",
      "\n",
      "----------------\n",
      "Alpha: 0.7\n",
      "----------------\n",
      "Score: 0.7391719624798192\n",
      "MAE: 7972.801912007526\n",
      "\n",
      "----------------\n",
      "Alpha: 0.7999999999999999\n",
      "----------------\n",
      "Score: 0.7222774321409482\n",
      "MAE: 7938.647785243712\n",
      "\n",
      "----------------\n",
      "Alpha: 0.9\n",
      "----------------\n",
      "Score: 0.725898709482715\n",
      "MAE: 7790.23427626034\n",
      "\n",
      "----------------\n",
      "Alpha: 1.0\n",
      "----------------\n",
      "Score: 0.7365210958733814\n",
      "MAE: 7856.386092954597\n",
      "\n",
      "----------------\n"
     ]
    }
   ],
   "source": [
    "from sklearn.linear_model import Ridge\n",
    "alpha = list(range(10))\n",
    "alpha_list = [a/10 + 0.1 for a in alpha]\n",
    "\n",
    "for a in alpha_list:\n",
    "    print(\"Alpha: \" + str(a))\n",
    "    print(\"----------------\")\n",
    "    ridge_regression_model = Ridge(alpha = a)\n",
    "    training_data = train_df\n",
    "    Y_test, Y_pred = regression_test(ridge_regression_model, training_data)\n",
    "    print(\"\\n----------------\")"
   ]
  },
  {
   "cell_type": "markdown",
   "id": "f0e66681",
   "metadata": {},
   "source": [
    "Once again, no real difference between changing alpha"
   ]
  },
  {
   "cell_type": "markdown",
   "id": "8cd1f553",
   "metadata": {},
   "source": [
    "# Random Forest Regression"
   ]
  },
  {
   "cell_type": "markdown",
   "id": "415fd307",
   "metadata": {},
   "source": [
    "Implementing a random forest model"
   ]
  },
  {
   "cell_type": "code",
   "execution_count": 18,
   "id": "9bf50d5c",
   "metadata": {},
   "outputs": [
    {
     "name": "stdout",
     "output_type": "stream",
     "text": [
      "Score: 0.7556007278102105\n",
      "MAE: 7694.510667884192\n"
     ]
    }
   ],
   "source": [
    "from sklearn.ensemble import RandomForestRegressor\n",
    "random_forest_model = RandomForestRegressor(max_depth = 8, n_estimators = 100)\n",
    "training_data = train_df\n",
    "Y_test, Y_pred = regression_test(random_forest_model, training_data)"
   ]
  },
  {
   "cell_type": "markdown",
   "id": "7fa37cc4",
   "metadata": {},
   "source": [
    "# Decision Tree Regression"
   ]
  },
  {
   "cell_type": "markdown",
   "id": "3cf5cfc4",
   "metadata": {},
   "source": [
    "Implementing a decision tree model"
   ]
  },
  {
   "cell_type": "code",
   "execution_count": 19,
   "id": "b333d7c3",
   "metadata": {},
   "outputs": [
    {
     "name": "stdout",
     "output_type": "stream",
     "text": [
      "Score: 0.726351444749762\n",
      "MAE: 7998.632205302923\n"
     ]
    }
   ],
   "source": [
    "from sklearn.tree import DecisionTreeRegressor\n",
    "tree_model = DecisionTreeRegressor(max_depth = 8)\n",
    "training_data = train_df\n",
    "Y_test, Y_pred = regression_test(tree_model, training_data)"
   ]
  },
  {
   "cell_type": "markdown",
   "id": "1ab62adc",
   "metadata": {},
   "source": [
    "By comparing the score and MAE of these two, the random forest model seems to consistently outperform the decision tree model"
   ]
  },
  {
   "cell_type": "markdown",
   "id": "aab5c2ea",
   "metadata": {},
   "source": [
    "# Elastic Net"
   ]
  },
  {
   "cell_type": "markdown",
   "id": "e63b769d",
   "metadata": {},
   "source": [
    "Implementing ElasticNet - a regression model that overcomes the limitations of both Lasso and Ridge "
   ]
  },
  {
   "cell_type": "code",
   "execution_count": 20,
   "id": "67cfe7f1",
   "metadata": {},
   "outputs": [
    {
     "name": "stdout",
     "output_type": "stream",
     "text": [
      "Score: 0.7135156790865795\n",
      "MAE: 8021.517971973152\n"
     ]
    },
    {
     "data": {
      "image/png": "[encoded data removed]",
      "text/plain": [
       "<Figure size 640x480 with 1 Axes>"
      ]
     },
     "metadata": {},
     "output_type": "display_data"
    }
   ],
   "source": [
    "from sklearn.linear_model import ElasticNet\n",
    "elastic_net_model = ElasticNet(alpha = 0.5)\n",
    "training_data = train_df\n",
    "Y_test, Y_pred = regression_test(elastic_net_model, training_data)\n",
    "plot_model(Y_test, Y_pred)"
   ]
  },
  {
   "cell_type": "markdown",
   "id": "a0ad9f4c",
   "metadata": {},
   "source": [
    "Elastic net however does not perform better than Random Forest Regression. "
   ]
  },
  {
   "cell_type": "markdown",
   "id": "e14017b9",
   "metadata": {},
   "source": [
    "# MLP Regressor"
   ]
  },
  {
   "cell_type": "markdown",
   "id": "e5046381",
   "metadata": {},
   "source": [
    "Here I implement a MLP Regressor and try to do some hyper parameter tuning"
   ]
  },
  {
   "cell_type": "code",
   "execution_count": 21,
   "id": "2a027e10",
   "metadata": {},
   "outputs": [
    {
     "name": "stdout",
     "output_type": "stream",
     "text": [
      "Score: 0.8193407926654328\n",
      "MAE: 6413.429208730915\n"
     ]
    },
    {
     "name": "stderr",
     "output_type": "stream",
     "text": [
      "/Users/antonshtarkman/Library/Python/3.9/lib/python/site-packages/sklearn/neural_network/_multilayer_perceptron.py:691: ConvergenceWarning: Stochastic Optimizer: Maximum iterations (30) reached and the optimization hasn't converged yet.\n",
      "  warnings.warn(\n"
     ]
    },
    {
     "data": {
      "image/png": "[encoded data removed]",
      "text/plain": [
       "<Figure size 640x480 with 1 Axes>"
      ]
     },
     "metadata": {},
     "output_type": "display_data"
    },
    {
     "data": {
      "image/png": "[encoded data removed]",
      "text/plain": [
       "<Figure size 640x480 with 1 Axes>"
      ]
     },
     "metadata": {},
     "output_type": "display_data"
    }
   ],
   "source": [
    "from sklearn.neural_network import MLPRegressor\n",
    "\n",
    "layer_size =[30,10]  # 0.7939074212269913\n",
    "layer_size = [5, 5]  # 0.7222901934357828\n",
    "layer_size = [50, 50] # 0.8172343353932848\n",
    "layer_size = [50] # 0.0.7706199263250595\n",
    "layer_size = [5, 5, 5] # 0.760151118552116\n",
    "layer_size = [10, 10, 10] # 0.8022043576801993\n",
    "layer_size = [20, 10, 10] # 0.8167675247382208  #0.8063099523718297\n",
    "layer_size = [50, 50] # 0.8172343353932848 # 0.8329269861372597\n",
    "layer_size = [30, 20] # 0.8238186607847082 0.8237141499232239 0.8184203561639233\n",
    "params = { 'hidden_layer_sizes' : layer_size,\n",
    "'activation' : 'relu', 'solver' : 'adam',\n",
    "'alpha' : 0.0, 'batch_size' : 64,\n",
    "'random_state' : 0, 'tol' : 0.0001,\n",
    "'nesterovs_momentum' : False,\n",
    "'learning_rate' : 'adaptive',\n",
    "'learning_rate_init' : 0.05,\n",
    "'max_iter' : 30, 'shuffle' : True,\n",
    "'n_iter_no_change' : 5, 'verbose' : False }\n",
    "\n",
    "mlp_regression_model = MLPRegressor(**params)\n",
    "training_data = train_df\n",
    "Y_test, Y_pred = regression_test(mlp_regression_model, training_data)\n",
    "plot_model(Y_test, Y_pred)\n",
    "plt.plot(mlp_regression_model.loss_curve_)\n",
    "plt.show()"
   ]
  },
  {
   "cell_type": "markdown",
   "id": "d291c144",
   "metadata": {},
   "source": [
    "The MLP Regressor seems to achieve the highest score and the lowest MAE"
   ]
  },
  {
   "cell_type": "markdown",
   "id": "7365b721",
   "metadata": {},
   "source": [
    "# Using the Grid Search to hypertune the parameters"
   ]
  },
  {
   "cell_type": "markdown",
   "id": "d6179197",
   "metadata": {},
   "source": [
    "This hypertuning was helped https://michael-fuchs-python.netlify.app/2021/02/10/nn-multi-layer-perceptron-regressor-mlpregressor/"
   ]
  },
  {
   "cell_type": "code",
   "execution_count": null,
   "id": "b72ebd1c",
   "metadata": {},
   "outputs": [],
   "source": [
    "from sklearn.model_selection import GridSearchCV\n",
    "from sklearn.neural_network import MLPRegressor\n",
    "\n",
    "# Some grid tests\n",
    "param_grid = {\n",
    "    'hidden_layer_sizes': [(150,100,50), (120,80,40), (100,50,30)],\n",
    "    'max_iter': [5, 5, 5],\n",
    "    'activation': ['tanh', 'relu'],\n",
    "    'solver': ['sgd', 'adam'],\n",
    "    'alpha': [0.0001, 0.05],\n",
    "    'learning_rate': ['constant','adaptive'],\n",
    "}\n",
    "\n",
    "param_grid = {\n",
    "    'hidden_layer_sizes': [(5, 5), (10, 10), (10, 5)],\n",
    "}\n",
    "\n",
    "X = train_df.copy()\n",
    "Y = train_df['length']\n",
    "\n",
    "X_train, X_test, Y_train, Y_test = train_test_split(X, Y, test_size=0.2)\n",
    "X_train_features = train_df.columns[1:41]\n",
    "X_test_features = test_df.columns[1:41]\n",
    "\n",
    "X_test = X_test[X_test_features]\n",
    "X_train = X_train[X_train_features]\n",
    "\n",
    "scaler = StandardScaler()\n",
    "scaler.fit(X_train)\n",
    "scaled_X_train_features = scaler.fit_transform(X_train)\n",
    "scaled_X_test_features = scaler.transform(X_test)\n",
    "\n",
    "\n",
    "mlp_reg = MLPRegressor(max_iter=50)\n",
    "grid = GridSearchCV(mlp_reg, param_grid, n_jobs=-1, cv = 5)\n",
    "grid.fit(scaled_X_train_features, Y_train)\n",
    "\n",
    "print(grid.best_estimator_)\n",
    "best_params = grid.best_estimator_.get_params()\n",
    "print(best_params)"
   ]
  },
  {
   "cell_type": "markdown",
   "id": "d02e2ebf",
   "metadata": {},
   "source": [
    "# Figuring out Word_Present"
   ]
  },
  {
   "cell_type": "markdown",
   "id": "e933fb40",
   "metadata": {},
   "source": [
    "**Starting with Logistic Regression and differing split level to see if there is any improvement**"
   ]
  },
  {
   "cell_type": "code",
   "execution_count": 40,
   "id": "5999a9ab",
   "metadata": {},
   "outputs": [
    {
     "name": "stdout",
     "output_type": "stream",
     "text": [
      "True Positive Rate : 0.456322424551127\n",
      "False Positive Rate : 0.08413600065859883\n",
      "Precision: 0.7780914124416458\n",
      "Accuracy: 0.74\n"
     ]
    }
   ],
   "source": [
    "from sklearn.linear_model import LogisticRegression\n",
    "logistic_regression_model = LogisticRegression()\n",
    "training_data = train_df\n",
    "Y_test, Y_pred = classification_test(logistic_regression_model, training_data, 0.2, 0.5)"
   ]
  },
  {
   "cell_type": "code",
   "execution_count": 41,
   "id": "73c393eb",
   "metadata": {},
   "outputs": [
    {
     "name": "stdout",
     "output_type": "stream",
     "text": [
      "True Positive Rate : 0.4513157225021632\n",
      "False Positive Rate : 0.08246301848252233\n",
      "Precision: 0.7798592788038698\n",
      "Accuracy: 0.73\n"
     ]
    }
   ],
   "source": [
    "Y_test, Y_pred = classification_test(logistic_regression_model, training_data, 0.25, 0.5)"
   ]
  },
  {
   "cell_type": "code",
   "execution_count": 42,
   "id": "14d1a72e",
   "metadata": {},
   "outputs": [
    {
     "name": "stdout",
     "output_type": "stream",
     "text": [
      "True Positive Rate : 0.4487474437627812\n",
      "False Positive Rate : 0.08207402540516864\n",
      "Precision: 0.7784347054910945\n",
      "Accuracy: 0.73\n"
     ]
    }
   ],
   "source": [
    "Y_test, Y_pred = classification_test(logistic_regression_model, training_data, 0.3, 0.5)"
   ]
  },
  {
   "cell_type": "code",
   "execution_count": 43,
   "id": "42c6a886",
   "metadata": {},
   "outputs": [
    {
     "name": "stdout",
     "output_type": "stream",
     "text": [
      "True Positive Rate : 0.45632549268912903\n",
      "False Positive Rate : 0.08084054388133498\n",
      "Precision: 0.7853391684901532\n",
      "Accuracy: 0.74\n"
     ]
    }
   ],
   "source": [
    "Y_test, Y_pred = classification_test(logistic_regression_model, training_data, 0.1, 0.5)"
   ]
  },
  {
   "cell_type": "code",
   "execution_count": 44,
   "id": "07b19e23",
   "metadata": {},
   "outputs": [
    {
     "name": "stdout",
     "output_type": "stream",
     "text": [
      "True Positive Rate : 0.4551314673452078\n",
      "False Positive Rate : 0.08358045030203184\n",
      "Precision: 0.7790360046457607\n",
      "Accuracy: 0.74\n"
     ]
    }
   ],
   "source": [
    "Y_test, Y_pred = classification_test(logistic_regression_model, training_data, 0.15, 0.5)"
   ]
  },
  {
   "cell_type": "markdown",
   "id": "0f369897",
   "metadata": {},
   "source": [
    "-----"
   ]
  },
  {
   "cell_type": "markdown",
   "id": "89480519",
   "metadata": {},
   "source": [
    "**Now using Random Forest Classifer** "
   ]
  },
  {
   "cell_type": "markdown",
   "id": "45831c47",
   "metadata": {},
   "source": [
    "**Choosing different max_depth in random forest**"
   ]
  },
  {
   "cell_type": "code",
   "execution_count": 52,
   "id": "9d161356",
   "metadata": {},
   "outputs": [
    {
     "name": "stdout",
     "output_type": "stream",
     "text": [
      "True Positive Rate : 0.6090364516951313\n",
      "False Positive Rate : 0.1160523284515386\n",
      "Precision: 0.7720956535789304\n",
      "Accuracy: 0.78\n"
     ]
    }
   ],
   "source": [
    "from sklearn.ensemble import RandomForestClassifier\n",
    "random_forest_word_model = RandomForestClassifier(n_estimators = 100, max_depth = 30)\n",
    "training_data = train_df\n",
    "Y_test, Y_pred = classification_test(random_forest_word_model, training_data, 0.2, 0.5)"
   ]
  },
  {
   "cell_type": "code",
   "execution_count": 53,
   "id": "c7392fb7",
   "metadata": {},
   "outputs": [
    {
     "name": "stdout",
     "output_type": "stream",
     "text": [
      "True Positive Rate : 0.5824036511156186\n",
      "False Positive Rate : 0.10279062087186261\n",
      "Precision: 0.7867785579722555\n",
      "Accuracy: 0.77\n"
     ]
    }
   ],
   "source": [
    "from sklearn.ensemble import RandomForestClassifier\n",
    "random_forest_word_model = RandomForestClassifier(n_estimators = 100, max_depth = 20)\n",
    "training_data = train_df\n",
    "Y_test, Y_pred = classification_test(random_forest_word_model, training_data, 0.2, 0.5)\n"
   ]
  },
  {
   "cell_type": "markdown",
   "id": "0acb6b91",
   "metadata": {},
   "source": [
    "Choosing the above model since it has the lowest FPR and a high precision and accuracy."
   ]
  },
  {
   "cell_type": "code",
   "execution_count": 92,
   "id": "f90f2b4f",
   "metadata": {},
   "outputs": [
    {
     "name": "stdout",
     "output_type": "stream",
     "text": [
      "True Positive Rate : 0.6402092771007465\n",
      "False Positive Rate : 0.1338430550417232\n",
      "Precision: 0.7550037622272385\n",
      "Accuracy: 0.78\n"
     ]
    }
   ],
   "source": [
    "from sklearn.ensemble import RandomForestClassifier\n",
    "random_forest_word_model = RandomForestClassifier(n_estimators = 100, max_depth = 80)\n",
    "training_data = train_df\n",
    "Y_test, Y_pred = classification_test(random_forest_word_model, training_data, 0.2, 0.5)\n"
   ]
  },
  {
   "cell_type": "code",
   "execution_count": 56,
   "id": "82e01bc4",
   "metadata": {},
   "outputs": [
    {
     "name": "stdout",
     "output_type": "stream",
     "text": [
      "True Positive Rate : 0.5576639528174883\n",
      "False Positive Rate : 0.10852014261710585\n",
      "Precision: 0.7666343526923416\n",
      "Accuracy: 0.76\n"
     ]
    }
   ],
   "source": [
    "from sklearn.ensemble import RandomForestClassifier\n",
    "random_forest_word_model = RandomForestClassifier(n_estimators = 100, max_depth = 15)\n",
    "training_data = train_df\n",
    "Y_test, Y_pred = classification_test(random_forest_word_model, training_data, 0.2, 0.5)"
   ]
  },
  {
   "cell_type": "code",
   "execution_count": 62,
   "id": "821ba834",
   "metadata": {},
   "outputs": [
    {
     "name": "stdout",
     "output_type": "stream",
     "text": [
      "True Positive Rate : 0.5338977656120695\n",
      "False Positive Rate : 0.11588654234078466\n",
      "Precision: 0.7487055882878058\n",
      "Accuracy: 0.75\n"
     ]
    }
   ],
   "source": [
    "from sklearn.neural_network import MLPClassifier\n",
    "\n",
    "params = { 'hidden_layer_sizes' : [30,15],\n",
    "'activation' : 'relu', 'solver' : 'adam',\n",
    "'alpha' : 0.0, 'batch_size' : 64,\n",
    "'random_state' : 0, 'tol' : 0.0001,\n",
    "'nesterovs_momentum' : False,\n",
    "'learning_rate' : 'constant',\n",
    "'learning_rate_init' : 0.01,\n",
    "'max_iter' : 500, 'shuffle' : True,\n",
    "'n_iter_no_change' : 5, 'verbose' : False }\n",
    "\n",
    "model = MLPClassifier(**params)\n",
    "\n",
    "training_data = train_df\n",
    "Y_test, Y_pred = classification_test(model, training_data, 0.2, 0.6)"
   ]
  },
  {
   "cell_type": "markdown",
   "id": "0286d52b",
   "metadata": {},
   "source": [
    "The random forest has the lowest FPR and as stated in the instructions, we want that to be as close to 0.05 as possible. However, the TPR is not the best from these models, but I prioritized lessening the FPR more than increasing the TPR."
   ]
  },
  {
   "cell_type": "markdown",
   "id": "2715c87d",
   "metadata": {},
   "source": [
    "# Figuring out edited_2023"
   ]
  },
  {
   "cell_type": "markdown",
   "id": "12da67ab",
   "metadata": {},
   "source": [
    "First creating a dataframe including the 0/1-valued variable refered to as edited_2023"
   ]
  },
  {
   "cell_type": "code",
   "execution_count": 63,
   "id": "095a4e43",
   "metadata": {},
   "outputs": [],
   "source": [
    "edited_2023_df = train_df.copy()\n",
    "# Create a dataframe with an edited_2023 variable\n",
    "edited_2023_df[\"edited_2023\"] = (pd.to_datetime(train_df[\"date\"]).dt.year == 2023).astype(int)"
   ]
  },
  {
   "cell_type": "markdown",
   "id": "c2580581",
   "metadata": {},
   "source": [
    "**Running Logistic Regression on the response variable with different params**"
   ]
  },
  {
   "cell_type": "code",
   "execution_count": 68,
   "id": "07f47e3e",
   "metadata": {},
   "outputs": [
    {
     "name": "stdout",
     "output_type": "stream",
     "text": [
      "True Positive Rate : 0.45307319561336395\n",
      "False Positive Rate : 0.08257937160717223\n",
      "Precision: 0.7796796137809963\n",
      "Accuracy: 0.74\n"
     ]
    }
   ],
   "source": [
    "from sklearn.linear_model import LogisticRegression\n",
    "logistic_regression_model = LogisticRegression()\n",
    "training_data = edited_2023_df\n",
    "Y_test, Y_pred = classification_test(logistic_regression_model, training_data, 0.2, 0.5)"
   ]
  },
  {
   "cell_type": "code",
   "execution_count": 69,
   "id": "ece24a99",
   "metadata": {},
   "outputs": [
    {
     "name": "stdout",
     "output_type": "stream",
     "text": [
      "True Positive Rate : 0.44929207508488694\n",
      "False Positive Rate : 0.08585133860850314\n",
      "Precision: 0.7700669814428461\n",
      "Accuracy: 0.73\n"
     ]
    }
   ],
   "source": [
    "from sklearn.linear_model import LogisticRegression\n",
    "logistic_regression_model = LogisticRegression(penalty = 'l2', solver = 'newton-cg')\n",
    "training_data = edited_2023_df\n",
    "Y_test, Y_pred = classification_test(logistic_regression_model, training_data, 0.2, 0.5)"
   ]
  },
  {
   "cell_type": "markdown",
   "id": "6f37256a",
   "metadata": {},
   "source": [
    "I will use this model for edited_2023 because of the aggresive penalty - the FPR is lower. Additionally, the precision and accuracy are not bad here."
   ]
  },
  {
   "cell_type": "code",
   "execution_count": 70,
   "id": "16fa3f5c",
   "metadata": {},
   "outputs": [
    {
     "name": "stdout",
     "output_type": "stream",
     "text": [
      "True Positive Rate : 0.44903372489579385\n",
      "False Positive Rate : 0.08185053380782918\n",
      "Precision: 0.782350352112676\n",
      "Accuracy: 0.73\n"
     ]
    }
   ],
   "source": [
    "from sklearn.linear_model import LogisticRegression\n",
    "logistic_regression_model = LogisticRegression(penalty = 'l1', solver = 'liblinear')\n",
    "training_data = edited_2023_df\n",
    "Y_test, Y_pred = classification_test(logistic_regression_model, training_data, 0.2, 0.5)"
   ]
  },
  {
   "cell_type": "markdown",
   "id": "886278a4",
   "metadata": {},
   "source": [
    "Using this logistic model since it has the lowest FPR although not the highest TPR."
   ]
  },
  {
   "cell_type": "markdown",
   "id": "6a3ae45b",
   "metadata": {},
   "source": [
    "**Running Random Forest Classifier on the response variable max_depth 20**"
   ]
  },
  {
   "cell_type": "code",
   "execution_count": 67,
   "id": "3324635d",
   "metadata": {},
   "outputs": [
    {
     "name": "stdout",
     "output_type": "stream",
     "text": [
      "True Positive Rate : 0.580453907943389\n",
      "False Positive Rate : 0.10339721970880975\n",
      "Precision: 0.7836302607797573\n",
      "Accuracy: 0.77\n"
     ]
    }
   ],
   "source": [
    "from sklearn.ensemble import RandomForestClassifier\n",
    "random_forest_word_model = RandomForestClassifier(n_estimators = 100, max_depth = 20)\n",
    "training_data = edited_2023_df\n",
    "Y_test, Y_pred = classification_test(random_forest_word_model, training_data, 0.2, 0.5)"
   ]
  },
  {
   "cell_type": "code",
   "execution_count": 72,
   "id": "9718e497",
   "metadata": {},
   "outputs": [
    {
     "name": "stdout",
     "output_type": "stream",
     "text": [
      "True Positive Rate : 0.8558995686999384\n",
      "False Positive Rate : 0.5922890535917902\n",
      "Precision: 0.7278383600222681\n",
      "Accuracy: 0.70\n"
     ]
    }
   ],
   "source": [
    "from sklearn.neural_network import MLPClassifier\n",
    "\n",
    "params = { 'hidden_layer_sizes' : [10, 5, 3],\n",
    "'activation' : 'relu', 'solver' : 'adam',\n",
    "'alpha' : 0.0, 'batch_size' : 64,\n",
    "'random_state' : 0, 'tol' : 0.0001,\n",
    "'nesterovs_momentum' : False,\n",
    "'learning_rate' : 'constant',\n",
    "'learning_rate_init' : 0.01,\n",
    "'max_iter' : 500, 'shuffle' : True,\n",
    "'n_iter_no_change' : 5, 'verbose' : False }\n",
    "\n",
    "mlp_classifier_model = MLPClassifier(**params)\n",
    "\n",
    "training_data = edited_2023_df\n",
    "Y_test, Y_pred = classification_test(mlp_classifier_model, training_data, 0.2, 0.5, field=\"edited_2023\")"
   ]
  },
  {
   "cell_type": "markdown",
   "id": "d3175a51",
   "metadata": {},
   "source": [
    "MLP has a pretty large FPR even though its TPR is significantly better - will not be using this."
   ]
  },
  {
   "cell_type": "markdown",
   "id": "9c0fd0ba",
   "metadata": {},
   "source": [
    "# Picking models and creating the CSV file"
   ]
  },
  {
   "cell_type": "markdown",
   "id": "a855780d",
   "metadata": {},
   "source": [
    "# First predicting length"
   ]
  },
  {
   "cell_type": "markdown",
   "id": "788a5f93",
   "metadata": {},
   "source": [
    "For length, the highest score and lowest MAE was acquired via the MLP regressor with the layer_size = [30,20]"
   ]
  },
  {
   "cell_type": "code",
   "execution_count": 76,
   "id": "d97938be",
   "metadata": {},
   "outputs": [],
   "source": [
    "from sklearn.neural_network import MLPRegressor\n",
    "\n",
    "params = { 'hidden_layer_sizes' : [30,20],\n",
    "'activation' : 'relu', 'solver' : 'adam',\n",
    "'alpha' : 0.0, 'batch_size' : 64,\n",
    "'random_state' : 0, 'tol' : 0.0001,\n",
    "'nesterovs_momentum' : False,\n",
    "'learning_rate' : 'adaptive',\n",
    "'learning_rate_init' : 0.05,\n",
    "'max_iter' : 500, 'shuffle' : True,\n",
    "'n_iter_no_change' : 5, 'verbose' : False }\n",
    "\n",
    "mlp_regressor_length_model = MLPRegressor(**params)\n",
    "\n",
    "scaler = StandardScaler()\n",
    "\n",
    "testing_data = test_df.copy()\n",
    "X_test_features = testing_data.columns[1:41]\n",
    "final_testing_data = test_df[X_test_features]\n",
    "final_testing_data_array = final_testing_data.values\n",
    "\n",
    "training_data = train_df.copy()\n",
    "X_train_features = training_data.columns[1:41]\n",
    "final_training_data = train_df[X_train_features]\n",
    "final_training_data_array = final_training_data.values\n",
    "Y = training_data['length']\n",
    "\n",
    "scaler.fit(final_training_data_array)\n",
    "\n",
    "scaled_X_train_features = scaler.transform(final_training_data_array)\n",
    "scaled_X_test_features = scaler.transform(final_testing_data_array)\n",
    "    \n",
    "model = mlp_regressor_length_model.fit(scaled_X_train_features, Y.values)\n",
    "length_pred = model.predict(scaled_X_test_features) \n"
   ]
  },
  {
   "cell_type": "code",
   "execution_count": 77,
   "id": "32a2d65b",
   "metadata": {},
   "outputs": [
    {
     "name": "stdout",
     "output_type": "stream",
     "text": [
      "[44942.99417778 16362.94185523 15969.92244613 ... 11120.85078335\n",
      " 18708.64040326 10923.42671604]\n"
     ]
    }
   ],
   "source": [
    "print(length_pred)"
   ]
  },
  {
   "cell_type": "code",
   "execution_count": 78,
   "id": "da288434",
   "metadata": {},
   "outputs": [
    {
     "data": {
      "text/plain": [
       "(array([4.355e+04, 5.153e+03, 1.007e+03, 1.890e+02, 5.200e+01, 2.700e+01,\n",
       "        6.000e+00, 4.000e+00, 1.100e+01, 1.000e+00]),\n",
       " array([   480.88429862,  47818.61845526,  95156.35261191, 142494.08676855,\n",
       "        189831.82092519, 237169.55508184, 284507.28923848, 331845.02339512,\n",
       "        379182.75755177, 426520.49170841, 473858.22586505]),\n",
       " <BarContainer object of 10 artists>)"
      ]
     },
     "execution_count": 78,
     "metadata": {},
     "output_type": "execute_result"
    },
    {
     "data": {
      "image/png": "[encoded data removed]",
      "text/plain": [
       "<Figure size 640x480 with 1 Axes>"
      ]
     },
     "metadata": {},
     "output_type": "display_data"
    }
   ],
   "source": [
    "plt.hist(length_pred)"
   ]
  },
  {
   "cell_type": "code",
   "execution_count": 79,
   "id": "1690368c",
   "metadata": {},
   "outputs": [
    {
     "data": {
      "text/plain": [
       "(array([1.87767e+05, 1.03310e+04, 1.48400e+03, 3.11000e+02, 6.30000e+01,\n",
       "        4.00000e+00, 3.90000e+01, 0.00000e+00, 0.00000e+00, 1.00000e+00]),\n",
       " array([  4411. ,  72558.4, 140705.8, 208853.2, 277000.6, 345148. ,\n",
       "        413295.4, 481442.8, 549590.2, 617737.6, 685885. ]),\n",
       " <BarContainer object of 10 artists>)"
      ]
     },
     "execution_count": 79,
     "metadata": {},
     "output_type": "execute_result"
    },
    {
     "data": {
      "image/png": "[encoded data removed]",
      "text/plain": [
       "<Figure size 640x480 with 1 Axes>"
      ]
     },
     "metadata": {},
     "output_type": "display_data"
    }
   ],
   "source": [
    "plt.hist(Y)"
   ]
  },
  {
   "cell_type": "markdown",
   "id": "52bf2471",
   "metadata": {},
   "source": [
    "# Now moving onto predicting word_present"
   ]
  },
  {
   "cell_type": "markdown",
   "id": "287a2a49",
   "metadata": {},
   "source": [
    "For word_present, random forest with n_estimators of 100 and max_depth of 30 worked the best."
   ]
  },
  {
   "cell_type": "code",
   "execution_count": 80,
   "id": "d9c406d7",
   "metadata": {},
   "outputs": [
    {
     "name": "stdout",
     "output_type": "stream",
     "text": [
      "(50000, 40)\n"
     ]
    }
   ],
   "source": [
    "from sklearn.ensemble import RandomForestClassifier\n",
    "\n",
    "random_forest_word_model = RandomForestClassifier(n_estimators = 100, max_depth = 20)\n",
    "\n",
    "scaler = StandardScaler()\n",
    "\n",
    "testing_data = test_df.copy()\n",
    "X_test_features = testing_data.columns[1:41]\n",
    "final_testing_data = test_df[X_test_features]\n",
    "final_testing_data_array = final_testing_data.values\n",
    "\n",
    "print(final_testing_data_array.shape) \n",
    "\n",
    "training_data = train_df.copy()\n",
    "X_train_features = training_data.columns[1:41]\n",
    "final_training_data = train_df[X_train_features]\n",
    "final_training_data_array = final_training_data.values\n",
    "Y = training_data['word_present']\n",
    "\n",
    "scaler.fit(final_training_data_array)\n",
    "\n",
    "scaled_X_train_features = scaler.transform(final_training_data_array)\n",
    "scaled_X_test_features = scaler.transform(final_testing_data_array)\n",
    "    \n",
    "model = random_forest_word_model.fit(scaled_X_train_features, Y.values)\n",
    "word_pred = model.predict(scaled_X_test_features) \n"
   ]
  },
  {
   "cell_type": "code",
   "execution_count": 81,
   "id": "61865af3",
   "metadata": {},
   "outputs": [
    {
     "name": "stdout",
     "output_type": "stream",
     "text": [
      "[1 0 0 ... 0 0 0]\n"
     ]
    }
   ],
   "source": [
    "print(word_pred)"
   ]
  },
  {
   "cell_type": "code",
   "execution_count": 82,
   "id": "974f42e8",
   "metadata": {},
   "outputs": [
    {
     "data": {
      "text/plain": [
       "(array([35588.,     0.,     0.,     0.,     0.,     0.,     0.,     0.,\n",
       "            0., 14412.]),\n",
       " array([0. , 0.1, 0.2, 0.3, 0.4, 0.5, 0.6, 0.7, 0.8, 0.9, 1. ]),\n",
       " <BarContainer object of 10 artists>)"
      ]
     },
     "execution_count": 82,
     "metadata": {},
     "output_type": "execute_result"
    },
    {
     "data": {
      "image/png": "[encoded data removed]",
      "text/plain": [
       "<Figure size 640x480 with 1 Axes>"
      ]
     },
     "metadata": {},
     "output_type": "display_data"
    }
   ],
   "source": [
    "plt.hist(word_pred)"
   ]
  },
  {
   "cell_type": "code",
   "execution_count": 83,
   "id": "a8c1b387",
   "metadata": {},
   "outputs": [
    {
     "data": {
      "text/plain": [
       "(array([121510.,      0.,      0.,      0.,      0.,      0.,      0.,\n",
       "             0.,      0.,  78490.]),\n",
       " array([0. , 0.1, 0.2, 0.3, 0.4, 0.5, 0.6, 0.7, 0.8, 0.9, 1. ]),\n",
       " <BarContainer object of 10 artists>)"
      ]
     },
     "execution_count": 83,
     "metadata": {},
     "output_type": "execute_result"
    },
    {
     "data": {
      "image/png": "[encoded data removed]",
      "text/plain": [
       "<Figure size 640x480 with 1 Axes>"
      ]
     },
     "metadata": {},
     "output_type": "display_data"
    }
   ],
   "source": [
    "plt.hist(Y)"
   ]
  },
  {
   "cell_type": "code",
   "execution_count": 84,
   "id": "e5686ff4",
   "metadata": {},
   "outputs": [
    {
     "name": "stdout",
     "output_type": "stream",
     "text": [
      "(50000, 40)\n"
     ]
    }
   ],
   "source": [
    "from sklearn.linear_model import LogisticRegression\n",
    "\n",
    "logistic_regression_date_model = LogisticRegression(penalty = 'l2', solver = 'newton-cg')\n",
    "\n",
    "scaler = StandardScaler()\n",
    "\n",
    "testing_data = test_df.copy()\n",
    "X_test_features = testing_data.columns[1:41]\n",
    "final_testing_data = test_df[X_test_features]\n",
    "final_testing_data_array = final_testing_data.values\n",
    "\n",
    "print(final_testing_data_array.shape)\n",
    "\n",
    "training_data = edited_2023_df.copy()\n",
    "X_train_features = training_data.columns[1:41]\n",
    "final_training_data = train_df[X_train_features]\n",
    "final_training_data_array = final_training_data.values\n",
    "Y = training_data['edited_2023']\n",
    "\n",
    "scaler.fit(final_training_data_array)\n",
    "\n",
    "scaled_X_train_features = scaler.transform(final_training_data_array)\n",
    "scaled_X_test_features = scaler.transform(final_testing_data_array)\n",
    "    \n",
    "model = random_forest_word_model.fit(scaled_X_train_features, Y.values)\n",
    "date_pred = model.predict(scaled_X_test_features) \n",
    "\n"
   ]
  },
  {
   "cell_type": "code",
   "execution_count": 85,
   "id": "e4e6d57a",
   "metadata": {},
   "outputs": [
    {
     "name": "stdout",
     "output_type": "stream",
     "text": [
      "[1 0 0 ... 0 0 1]\n"
     ]
    }
   ],
   "source": [
    "print(date_pred)"
   ]
  },
  {
   "cell_type": "code",
   "execution_count": 87,
   "id": "629f918a",
   "metadata": {},
   "outputs": [
    {
     "data": {
      "text/plain": [
       "(array([13168.,     0.,     0.,     0.,     0.,     0.,     0.,     0.,\n",
       "            0., 36832.]),\n",
       " array([0. , 0.1, 0.2, 0.3, 0.4, 0.5, 0.6, 0.7, 0.8, 0.9, 1. ]),\n",
       " <BarContainer object of 10 artists>)"
      ]
     },
     "execution_count": 87,
     "metadata": {},
     "output_type": "execute_result"
    },
    {
     "data": {
      "image/png": "[encoded data removed]",
      "text/plain": [
       "<Figure size 640x480 with 1 Axes>"
      ]
     },
     "metadata": {},
     "output_type": "display_data"
    }
   ],
   "source": [
    "plt.hist(date_pred)"
   ]
  },
  {
   "cell_type": "code",
   "execution_count": 88,
   "id": "8a478d47",
   "metadata": {},
   "outputs": [
    {
     "data": {
      "text/plain": [
       "(array([ 69422.,      0.,      0.,      0.,      0.,      0.,      0.,\n",
       "             0.,      0., 130578.]),\n",
       " array([0. , 0.1, 0.2, 0.3, 0.4, 0.5, 0.6, 0.7, 0.8, 0.9, 1. ]),\n",
       " <BarContainer object of 10 artists>)"
      ]
     },
     "execution_count": 88,
     "metadata": {},
     "output_type": "execute_result"
    },
    {
     "data": {
      "image/png": "[encoded data removed]",
      "text/plain": [
       "<Figure size 640x480 with 1 Axes>"
      ]
     },
     "metadata": {},
     "output_type": "display_data"
    }
   ],
   "source": [
    "plt.hist(Y)"
   ]
  },
  {
   "cell_type": "code",
   "execution_count": 91,
   "id": "01b2cff2",
   "metadata": {},
   "outputs": [],
   "source": [
    "import pandas as pd\n",
    "\n",
    "final_data_set = pd.DataFrame()\n",
    "\n",
    "\n",
    "final_data_set['URLID'] = test_df['URLID']\n",
    "\n",
    "final_data_set['length'] = length_pred\n",
    "\n",
    "final_data_set['word_present'] = word_pred\n",
    "\n",
    "final_data_set['edited_2023'] = date_pred\n",
    "\n",
    "file_path = '/Users/antonshtarkman/Desktop/Shtarkman_Prediction_Data_Set.csv'\n",
    "\n",
    "final_data_set.to_csv(file_path, index = False)\n"
   ]
  }
 ],
 "metadata": {
  "kernelspec": {
   "display_name": "Python 3",
   "language": "python",
   "name": "python3"
  },
  "language_info": {
   "codemirror_mode": {
    "name": "ipython",
    "version": 3
   },
   "file_extension": ".py",
   "mimetype": "text/x-python",
   "name": "python",
   "nbconvert_exporter": "python",
   "pygments_lexer": "ipython3",
   "version": "3.9.6"
  }
 },
 "nbformat": 4,
 "nbformat_minor": 5
}
